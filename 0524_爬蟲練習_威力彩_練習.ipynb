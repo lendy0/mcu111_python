{
  "cells": [
    {
      "cell_type": "markdown",
      "metadata": {
        "id": "view-in-github",
        "colab_type": "text"
      },
      "source": [
        "<a href=\"https://colab.research.google.com/github/lendy0/mcu111_python/blob/main/0524_%E7%88%AC%E8%9F%B2%E7%B7%B4%E7%BF%92_%E5%A8%81%E5%8A%9B%E5%BD%A9_%E7%B7%B4%E7%BF%92.ipynb\" target=\"_parent\"><img src=\"https://colab.research.google.com/assets/colab-badge.svg\" alt=\"Open In Colab\"/></a>"
      ]
    },
    {
      "cell_type": "markdown",
      "metadata": {
        "id": "dJj56Jv2cGif"
      },
      "source": [
        "# 一、匯入爬蟲相關套件\n",
        "### 1. requests\n",
        "```python\n",
        "import requests\n",
        "```\n",
        "### 2. BeautifulSoup\n",
        "```python\n",
        "from bs4 import BeautifulSoup\n",
        "```\n"
      ]
    },
    {
      "cell_type": "code",
      "execution_count": null,
      "metadata": {
        "id": "KpG7eJB0cGih"
      },
      "outputs": [],
      "source": [
        "# 以下請同學填入程式碼練習"
      ]
    },
    {
      "cell_type": "markdown",
      "metadata": {
        "id": "W-2hDG1_cGii"
      },
      "source": [
        "#  二、要去哪個網站爬資料\n",
        "### 1. 台彩網站\n",
        "```python\n",
        "url = 'https://www.taiwanlottery.com.tw/'\n",
        "```\n",
        "### 2. 利用requests套件爬取網頁內容\n",
        "```python\n",
        "r = requests.get(url);\n",
        "```\n",
        "### 3. 測試網站是否正常(狀態碼200)\n",
        "```python\n",
        "r\n",
        "```"
      ]
    },
    {
      "cell_type": "code",
      "execution_count": null,
      "metadata": {
        "id": "nXy4GrEUcGij"
      },
      "outputs": [],
      "source": [
        "# 以下請同學填入程式碼練習"
      ]
    },
    {
      "cell_type": "markdown",
      "metadata": {
        "id": "3BAfRc_IcGik"
      },
      "source": [
        "# 三、預覽爬回來的台彩網站內容\n",
        "```python\n",
        "print(r.text)\n",
        "```\n",
        "\n"
      ]
    },
    {
      "cell_type": "code",
      "execution_count": null,
      "metadata": {
        "id": "QkZoOQeMcGik"
      },
      "outputs": [],
      "source": [
        "# 以下請同學填入程式碼練習"
      ]
    },
    {
      "cell_type": "markdown",
      "metadata": {
        "id": "qyscSBWRcGik"
      },
      "source": [
        "# 可以用瀏覽器的開發者模式檢視我們所要爬的威力彩獎號區塊"
      ]
    },
    {
      "cell_type": "markdown",
      "metadata": {
        "id": "yS-vlJ3icGil"
      },
      "source": [
        "# 四、用BeautifulSoup來拆解網頁內容\n",
        "### 拆解方式有多種，如html5lib等，這邊使用lxml，這是官方推薦的解析方式，\n",
        "### 因為底層處理比較快，而且有錯誤會幫我們屏蔽掉，拆解完之後存到sp變數裡面\n",
        "```python\n",
        "sp = BeautifulSoup(r.text,'lxml')\n",
        "```"
      ]
    },
    {
      "cell_type": "code",
      "execution_count": null,
      "metadata": {
        "id": "pMZsQtHBcGil"
      },
      "outputs": [],
      "source": [
        "# 以下請同學填入程式碼練習"
      ]
    },
    {
      "cell_type": "markdown",
      "metadata": {
        "id": "ZFIFqyfscGil"
      },
      "source": [
        "# 五、利用BeautifulSoup取得威力彩區塊內容\n",
        "### 使用find方法，爬取div的tag，以及class為contents_box02的內容\n",
        "### 存到一個變數，名為power\n",
        "### 注意: class為關鍵字，因此使用時在後面加上底線\n",
        "```python\n",
        "power = sp.find('div',class_='contents_box02')\n",
        "```"
      ]
    },
    {
      "cell_type": "code",
      "execution_count": null,
      "metadata": {
        "id": "1GTS1cE-cGil"
      },
      "outputs": [],
      "source": [
        "# 以下請同學填入程式碼練習"
      ]
    },
    {
      "cell_type": "markdown",
      "metadata": {
        "id": "ov-kX09XcGim"
      },
      "source": [
        "# 六、取得威力彩本期期數\n",
        "### 使用find方法，爬取span的tag，以及class為font_black15的內容\n",
        "### 由於只需要tag裡面的內容，不包含html tag，所以使用text取得內容\n",
        "```python\n",
        "title = power.find('span',class_='font_black15').text\n",
        "```"
      ]
    },
    {
      "cell_type": "code",
      "execution_count": null,
      "metadata": {
        "id": "LEq3HNVIcGim"
      },
      "outputs": [],
      "source": [
        "# 以下請同學填入程式碼練習"
      ]
    },
    {
      "cell_type": "markdown",
      "metadata": {
        "id": "KP8XHZIfcGim"
      },
      "source": [
        "# 七、取得威力彩獎號\n",
        "### 1. 獎號在div的tag，且class是ball_tx ball_green\n",
        "### 2. 獎號前面6個是開出順序 後面6個是大小順序，共12個獎號\n",
        "### 3. 為了一次找12個獎號，所以用find_all方法，此方法回傳的是串列\n",
        "```python\n",
        "datas = power.find_all('div',class_='ball_tx ball_green')\n",
        "print(datas)\n",
        "```"
      ]
    },
    {
      "cell_type": "code",
      "execution_count": null,
      "metadata": {
        "id": "3jYiyEO-cGim"
      },
      "outputs": [],
      "source": [
        "# 以下請同學填入程式碼練習\n"
      ]
    },
    {
      "cell_type": "markdown",
      "metadata": {
        "id": "tHr112HZcGim"
      },
      "source": [
        "# 八、我們已經印出獎號資訊，但是\"開出順序\"和\"大小順序\"包含div的tag\n",
        "#         且合在一起沒有區隔，所以我們需要做兩件事來區分\"開出順序\"和\"大小順序\":\n",
        "### 1. 區分開出順序和大小順序的獎號\n",
        "### 2. 在印出獎號時，只取出獎號內容，不包含div的tag\n"
      ]
    },
    {
      "cell_type": "markdown",
      "metadata": {
        "id": "QDetCg3WcGin"
      },
      "source": [
        "#  區分開出順序和大小順序的獎號\n",
        "### (1)開出順序: 使用for迴圈並使用range限制，取出前6個獎號為開出順序\n",
        "### 使用print時，使用end，就會印在同一行(因為要將獎號印在同一行)\n",
        "```python\n",
        "print('開出順序', end=' ')\n",
        "for i in range(0,6):\n",
        "```\n",
        "### 印出獎號時，使用text，只取出獎號內容\n",
        "```python\n",
        "    print(datas[i].text, end=' ')\n",
        "```\n",
        "\n",
        "\n",
        "### (2)大小順序:使用for迴圈並使用range限制，取出後6個獎號為大小順序\n",
        "### 使用print時，使用end，就會印在同一行(由於大小順序與開出順序要有區隔，因此加上\\n換行)\n",
        "```python\n",
        "print('\\n大小順序', end=' ')\n",
        "for i in range(6,12):\n",
        "```\n",
        "### 印出獎號時，使用text，只取出獎號內容\n",
        "```python\n",
        "    print(datas[i].text, end=' ')\n",
        "```\n"
      ]
    },
    {
      "cell_type": "code",
      "execution_count": null,
      "metadata": {
        "id": "1U1JKk7icGin"
      },
      "outputs": [],
      "source": [
        "# 以下請同學填入程式碼練習"
      ]
    },
    {
      "cell_type": "markdown",
      "metadata": {
        "id": "3-to4T1WcGin"
      },
      "source": [
        "# 九、印出第二區獎號\n",
        "### 1. 第二區獎號在div的tag，且class是ball_red\n",
        "```python\n",
        "print('第二區:', power.find('div',class_='ball_red').text)\n",
        "```\n"
      ]
    },
    {
      "cell_type": "code",
      "execution_count": null,
      "metadata": {
        "id": "D7PqN2MYcGin"
      },
      "outputs": [],
      "source": [
        "# 以下請同學填入程式碼練習\n"
      ]
    },
    {
      "cell_type": "markdown",
      "metadata": {
        "id": "_qZWnACScGio"
      },
      "source": [
        "# 最後我們將剛才的程式碼進行整理\n",
        "# 就能完整呈現本期威力彩獎號資訊\n"
      ]
    },
    {
      "cell_type": "code",
      "execution_count": null,
      "metadata": {
        "id": "_icm24-qcGio"
      },
      "outputs": [],
      "source": [
        "# 以下請同學填入程式碼練習\n"
      ]
    },
    {
      "cell_type": "markdown",
      "source": [
        "```python\n",
        "import requests\n",
        "\n",
        "from bs4 import BeautifulSoup\n",
        "\n",
        "url = 'https://www.taiwanlottery.com.tw/'\n",
        "\n",
        "r = requests.get(url);\n",
        "\n",
        "sp = BeautifulSoup(r.text,'lxml')\n",
        "\n",
        "power = sp.find('div',class_='contents_box02')\n",
        "\n",
        "title = power.find('span',class_='font_black15').text\n",
        "\n",
        "print('威力彩期數:'+title)\n",
        "\n",
        "datas = power.find_all('div',class_='ball_tx ball_green')\n",
        "\n",
        "print('開出順序', end=' ')\n",
        "for i in range(0,6):\n",
        "    print(datas[i].text, end=' ')\n",
        "\n",
        "print('\\n大小順序', end=' ')\n",
        "\n",
        "for i in range(6,12):\n",
        "    print(datas[i].text, end=' ')\n",
        "\n",
        "print('第二區:', power.find('div',class_='ball_red').text)    \n",
        "```"
      ],
      "metadata": {
        "id": "uc62GZcDcsYL"
      }
    }
  ],
  "metadata": {
    "kernelspec": {
      "display_name": "Python 3 (ipykernel)",
      "language": "python",
      "name": "python3"
    },
    "language_info": {
      "codemirror_mode": {
        "name": "ipython",
        "version": 3
      },
      "file_extension": ".py",
      "mimetype": "text/x-python",
      "name": "python",
      "nbconvert_exporter": "python",
      "pygments_lexer": "ipython3",
      "version": "3.9.12"
    },
    "colab": {
      "provenance": [],
      "include_colab_link": true
    }
  },
  "nbformat": 4,
  "nbformat_minor": 0
}