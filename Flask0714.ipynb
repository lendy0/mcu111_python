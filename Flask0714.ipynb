{
  "nbformat": 4,
  "nbformat_minor": 0,
  "metadata": {
    "colab": {
      "provenance": [],
      "authorship_tag": "ABX9TyPEau/bAmyiNMp6KBOPaYxa",
      "include_colab_link": true
    },
    "kernelspec": {
      "name": "python3",
      "display_name": "Python 3"
    },
    "language_info": {
      "name": "python"
    }
  },
  "cells": [
    {
      "cell_type": "markdown",
      "metadata": {
        "id": "view-in-github",
        "colab_type": "text"
      },
      "source": [
        "<a href=\"https://colab.research.google.com/github/lendy0/mcu111_python/blob/main/Flask0714.ipynb\" target=\"_parent\"><img src=\"https://colab.research.google.com/assets/colab-badge.svg\" alt=\"Open In Colab\"/></a>"
      ]
    },
    {
      "cell_type": "markdown",
      "metadata": {
        "id": "0bUDLfzsZTFS"
      },
      "source": [
        "#快速開始流程\n",
        "1.安裝Flask套件\n",
        "```python\n",
        "!pip install Flask\n",
        "```\n",
        "2.寫程式\n",
        "```python\n",
        "app = Flask(__name__)  # 建立 app 變數為 Flask 物件，__name__ 表示目前執行的程式\n",
        "\n",
        "@app.route(\"/\")  # 使用函式裝飾器，建立一個路由(Routes)\n",
        "def home():      # 發出請求到對應的路由後，會執行home()的函式\n",
        "    return \"<h1>hello world</h1>\"   # 執行函式後會回傳特定的網頁內容\n",
        "```\n",
        "\n",
        "3.啟動伺服器，測試網站運作\n",
        "```python\n",
        "app.run() #立刻啟動伺服器\n",
        "```"
      ]
    },
    {
      "cell_type": "code",
      "execution_count": null,
      "metadata": {
        "id": "mel0WNEvcYQ4"
      },
      "outputs": [],
      "source": [
        "!pip install Flask"
      ]
    },
    {
      "cell_type": "code",
      "execution_count": null,
      "metadata": {
        "id": "g22Nz24ycmE8"
      },
      "outputs": [],
      "source": [
        "app = Flask(__name__)  # 建立 app 變數為 Flask 物件，__name__ 表示目前執行的程式\n",
        "\n",
        "@app.route(\"/\")  # 使用函式裝飾器，建立一個路由(Routes)\n",
        "def home():      # 發出請求到對應的路由後，會執行home()的函式\n",
        "    return \"<h1>hello world</h1>\"   # 執行函式後會回傳特定的網頁內容\n",
        "\n",
        "app.run() #立刻啟動伺服器"
      ]
    },
    {
      "cell_type": "markdown",
      "source": [
        "# 使用ngrock"
      ],
      "metadata": {
        "id": "SYzESVvEj-u-"
      }
    },
    {
      "cell_type": "markdown",
      "source": [
        "**Import Necessary Libraries**\n",
        "\n",
        "```python\n",
        "!pip install flask --quiet\n",
        "!pip install flask-ngrok --quiet\n",
        "print(\"Completed!\")\n",
        "```"
      ],
      "metadata": {
        "id": "Fex18XWtJ50A"
      }
    },
    {
      "cell_type": "code",
      "source": [
        "!pip install flask --quiet\n",
        "!pip install flask-ngrok --quiet\n",
        "print(\"Completed!\")"
      ],
      "metadata": {
        "id": "t1HlxLaRJ-uv",
        "colab": {
          "base_uri": "https://localhost:8080/"
        },
        "outputId": "15c5b0e3-9165-4468-ee93-b87cedc94d9f"
      },
      "execution_count": null,
      "outputs": [
        {
          "output_type": "stream",
          "name": "stdout",
          "text": [
            "Completed!\n"
          ]
        }
      ]
    },
    {
      "cell_type": "markdown",
      "source": [
        "**Setup and Installation of Ngrok**\n",
        "\n",
        "```python\n",
        "# install ngrok linux version using the following command or you can get the\n",
        "# latest version from its official website- https://dashboard.ngrok.com/get-started/setup\n",
        "\n",
        "!wget https://bin.equinox.io/c/4VmDzA7iaHb/ngrok-stable-linux-amd64.tgz\n",
        "```\n",
        "\n",
        "```python\n",
        "# extract the downloaded file using the following command\n",
        "\n",
        "!tar -xvf /content/ngrok-stable-linux-amd64.tgz\n",
        "```"
      ],
      "metadata": {
        "id": "KLolLhMAKaJ2"
      }
    },
    {
      "cell_type": "code",
      "source": [
        "!wget https://bin.equinox.io/c/4VmDzA7iaHb/ngrok-stable-linux-amd64.tgz"
      ],
      "metadata": {
        "id": "u53e-GOtKepR",
        "colab": {
          "base_uri": "https://localhost:8080/"
        },
        "outputId": "4a8be954-a3fd-4249-ad35-0ffa7fb8c542"
      },
      "execution_count": null,
      "outputs": [
        {
          "output_type": "stream",
          "name": "stdout",
          "text": [
            "--2023-05-17 07:54:56--  https://bin.equinox.io/c/4VmDzA7iaHb/ngrok-stable-linux-amd64.tgz\n",
            "Resolving bin.equinox.io (bin.equinox.io)... 52.202.168.65, 54.161.241.46, 54.237.133.81, ...\n",
            "Connecting to bin.equinox.io (bin.equinox.io)|52.202.168.65|:443... connected.\n",
            "HTTP request sent, awaiting response... 200 OK\n",
            "Length: 13856790 (13M) [application/octet-stream]\n",
            "Saving to: ‘ngrok-stable-linux-amd64.tgz’\n",
            "\n",
            "ngrok-stable-linux- 100%[===================>]  13.21M  58.6MB/s    in 0.2s    \n",
            "\n",
            "2023-05-17 07:54:57 (58.6 MB/s) - ‘ngrok-stable-linux-amd64.tgz’ saved [13856790/13856790]\n",
            "\n"
          ]
        }
      ]
    },
    {
      "cell_type": "code",
      "source": [
        "!tar -xvf /content/ngrok-stable-linux-amd64.tgz"
      ],
      "metadata": {
        "id": "GhRd4dpPKtu7",
        "colab": {
          "base_uri": "https://localhost:8080/"
        },
        "outputId": "5cd4dce2-3e24-46fc-a460-f3ed686f9aa7"
      },
      "execution_count": null,
      "outputs": [
        {
          "output_type": "stream",
          "name": "stdout",
          "text": [
            "ngrok\n"
          ]
        }
      ]
    },
    {
      "cell_type": "markdown",
      "source": [
        "**The next step is to get your AuthToken from ngrok using this link-** https://dashboard.ngrok.com/get-started/your-authtoken\n",
        "\n",
        "```python\n",
        "# paste your AuthToken here and execute this command\n",
        "\n",
        "!./ngrok authtoken 23H0IY10fqeKMIW7kG05JhKZMae_3Zabr2iqkU9AUcZ7CrRTP\n",
        "```"
      ],
      "metadata": {
        "id": "71E1yzcHLWpL"
      }
    },
    {
      "cell_type": "code",
      "source": [
        "!./ngrok authtoken 1WfN3RWTRByiPHSz9r0ZW1B6As4_5Mf9H6n439ySgC665zpQp"
      ],
      "metadata": {
        "id": "86Zuo90scOMV",
        "colab": {
          "base_uri": "https://localhost:8080/"
        },
        "outputId": "add275ff-d59d-484f-a52f-caaad3b7079f"
      },
      "execution_count": null,
      "outputs": [
        {
          "output_type": "stream",
          "name": "stdout",
          "text": [
            "Authtoken saved to configuration file: /root/.ngrok2/ngrok.yml\n"
          ]
        }
      ]
    },
    {
      "cell_type": "markdown",
      "source": [
        "**Creating A Simple Hello World Application Using Python Flask Module**\n",
        "\n",
        "```python\n",
        "# import Flask from flask module\n",
        "from flask import Flask\n",
        "\n",
        "# import run_with_ngrok from flask_ngrok to run the app using ngrok\n",
        "from flask_ngrok import run_with_ngrok\n",
        "  \n",
        "app = Flask(__name__) #app name\n",
        "run_with_ngrok(app)\n",
        "  \n",
        "@app.route(\"/\")\n",
        "def hello():\n",
        "    return \"<Title>lendy</Title><h1>hello world</h1>\"\n",
        "  \n",
        "if __name__ == \"__main__\":\n",
        "    app.run()\n",
        "```"
      ],
      "metadata": {
        "id": "zSa5cvibKIUW"
      }
    }
  ]
}