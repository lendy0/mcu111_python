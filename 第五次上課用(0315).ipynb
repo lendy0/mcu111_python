{
  "nbformat": 4,
  "nbformat_minor": 0,
  "metadata": {
    "colab": {
      "provenance": [],
      "authorship_tag": "ABX9TyMmyBZO+gWqueMDYDbaobpS",
      "include_colab_link": true
    },
    "kernelspec": {
      "name": "python3",
      "display_name": "Python 3"
    },
    "language_info": {
      "name": "python"
    }
  },
  "cells": [
    {
      "cell_type": "markdown",
      "metadata": {
        "id": "view-in-github",
        "colab_type": "text"
      },
      "source": [
        "<a href=\"https://colab.research.google.com/github/lendy0/mcu111_python/blob/main/%E7%AC%AC%E4%BA%94%E6%AC%A1%E4%B8%8A%E8%AA%B2%E7%94%A8(0315).ipynb\" target=\"_parent\"><img src=\"https://colab.research.google.com/assets/colab-badge.svg\" alt=\"Open In Colab\"/></a>"
      ]
    },
    {
      "cell_type": "markdown",
      "source": [
        "猜數字遊戲。\n",
        "* 可以猜三次。\n",
        "* 數字訂在0-9。\n",
        "\n",
        "```python\n",
        "ans=5\n",
        "guess=int(input(\"第1次猜:\"))\n",
        "if guess==ans:\n",
        "  print('猜對了!')\n",
        "else:\n",
        "  guess=int(input(\"第2次猜:\"))\n",
        "  if guess==ans:\n",
        "    print('猜對了!')\n",
        "  else:\n",
        "    guess=int(input(\"第3次猜:\"))\n",
        "    if guess==ans:\n",
        "      print('猜對了!')\n",
        "    else:\n",
        "      print('Game Over!')\n",
        "```\n"
      ],
      "metadata": {
        "id": "gTkty_ulZaMl"
      }
    },
    {
      "cell_type": "markdown",
      "source": [
        "改成while"
      ],
      "metadata": {
        "id": "8q1Ol-MXZo3i"
      }
    },
    {
      "cell_type": "code",
      "source": [],
      "metadata": {
        "id": "wh97-adoZomi"
      },
      "execution_count": null,
      "outputs": []
    },
    {
      "cell_type": "markdown",
      "source": [
        "改成for"
      ],
      "metadata": {
        "id": "x3qnw81BZsfr"
      }
    },
    {
      "cell_type": "code",
      "source": [],
      "metadata": {
        "id": "o2iwM2J5ZnPy"
      },
      "execution_count": null,
      "outputs": []
    }
  ]
}