{
  "nbformat": 4,
  "nbformat_minor": 0,
  "metadata": {
    "colab": {
      "provenance": [],
      "authorship_tag": "ABX9TyNaiKzjhdQGGxUNL/Eghorl",
      "include_colab_link": true
    },
    "kernelspec": {
      "name": "python3",
      "display_name": "Python 3"
    },
    "language_info": {
      "name": "python"
    }
  },
  "cells": [
    {
      "cell_type": "markdown",
      "metadata": {
        "id": "view-in-github",
        "colab_type": "text"
      },
      "source": [
        "<a href=\"https://colab.research.google.com/github/lendy0/mcu111_python/blob/main/%E7%88%AC%E8%9F%B20517.ipynb\" target=\"_parent\"><img src=\"https://colab.research.google.com/assets/colab-badge.svg\" alt=\"Open In Colab\"/></a>"
      ]
    },
    {
      "cell_type": "markdown",
      "source": [
        "# Requests 函式庫\n",
        "\n",
        "requests 函式庫具備了 GET、POST...等各種 request 用法，透過 requests 能夠輕鬆抓取網頁的資料。\n",
        "\n",
        "## 安裝 requests 模組 \n",
        "\n",
        "如果是使用 Colab 或 Anaconda，預設已經安裝了 requests 函式庫，不用額外安裝。\n",
        "\n",
        "```python\n",
        "import requests \n",
        "```"
      ],
      "metadata": {
        "id": "-ybvjZU6kGMJ"
      }
    },
    {
      "cell_type": "code",
      "execution_count": 1,
      "metadata": {
        "id": "eQLAO432kBNu"
      },
      "outputs": [],
      "source": []
    },
    {
      "cell_type": "markdown",
      "source": [
        "# requests 的 HTTP 方法\n",
        "requests 可以使用下列 HTTP 六個方法，使用後會傳回一個 Response 物件，六個方法裡，*GET 和 POST 是最常用的兩個方法*。\n",
        "\n",
        "Response 物件裡包含伺服器回應的訊息資訊，可以透過下列的屬性與方法，查詢相關內容。\n",
        "\n",
        "*text*回應訊息的內容字串 ( str )。\n",
        "\n",
        "*json()*將回應訊息進行 JSON 解碼後回傳 ( dict )。"
      ],
      "metadata": {
        "id": "io1fjNR5kh9Z"
      }
    },
    {
      "cell_type": "markdown",
      "source": [
        "# 靜態網頁內容\n",
        "\n",
        "台灣水庫即時水情：https://water.taiwanstat.com/\n",
        "\n",
        "```python\n",
        "web = requests.get('https://water.taiwanstat.com/')  # 使用 get 方法\n",
        "print(web.text)    # 讀取並印出 text 屬性\n",
        "```"
      ],
      "metadata": {
        "id": "hr8V5I9FkFCb"
      }
    },
    {
      "cell_type": "code",
      "source": [],
      "metadata": {
        "id": "Z107Po0okSYJ"
      },
      "execution_count": null,
      "outputs": []
    },
    {
      "cell_type": "markdown",
      "source": [
        "# 透過 API 爬取第一個開放資料 \n",
        "- 高雄輕軌月均運量統計：https://data.gov.tw/dataset/106199\n",
        "- JSON 檔案連結：https://data.kcg.gov.tw/dataset/6f29f6f4-2549-4473-aa90-bf60d10895dc/resource/30dfc2cf-17b5-4a40-8bb7-c511ea166bd3/download/lightrailtraffic.json\n",
        "\n",
        "```python\n",
        "web = requests.get('https://data.kcg.gov.tw/dataset/6f29f6f4-2549-4473-aa90-bf60d10895dc/resource/30dfc2cf-17b5-4a40-8bb7-c511ea166bd3/download/lightrailtraffic.json')\n",
        "print(web.json())\n",
        "```"
      ],
      "metadata": {
        "id": "U21VyU96kard"
      }
    },
    {
      "cell_type": "code",
      "source": [],
      "metadata": {
        "id": "DeOWVf9FkXG3"
      },
      "execution_count": null,
      "outputs": []
    },
    {
      "cell_type": "markdown",
      "source": [
        "# 傳遞參數 \n",
        "requests 在使用方法時，也可加入指定的參數，最常用的是 *params ( GET 使用 )、data ( POST 使用 )、headers 和 cookies*。\n",
        "\n",
        "get 範例網址：https://script.google.com/macros/s/AKfycbw5PnzwybI_VoZaHz65TpA5DYuLkxIF-HUGjJ6jRTOje0E6bVo/exec\n",
        "\n",
        "```python\n",
        "# 設定參數\n",
        "params = {\n",
        "    'name':'oxxo',\n",
        "    'age':'18'\n",
        "}\n",
        "# 加入參數\n",
        "web = requests.get('https://script.google.com/macros/s/AKfycbw5PnzwybI_VoZaHz65TpA5DYuLkxIF-HUGjJ6jRTOje0E6bVo/exec', params=params)\n",
        "print(web.text)\n",
        "```"
      ],
      "metadata": {
        "id": "L4HzY53VlKwC"
      }
    },
    {
      "cell_type": "code",
      "source": [],
      "metadata": {
        "id": "uasE4m07lKS4"
      },
      "execution_count": null,
      "outputs": []
    },
    {
      "cell_type": "markdown",
      "source": [
        "# 網頁解析器\n",
        "Beautiful Soup 函式庫，可以分析網頁的 HTML 與 XML 文件，並將分析的結果轉換成「網頁標籤樹」( tag ) 的型態，讓資料讀取方式更接近網頁的操作語法，處理起來也更為便利。\n",
        "\n",
        "## 安裝 Beautiful Soup 模組 \n",
        "如果是使用 Colab 或 Anaconda，預設已經安裝了 Beautiful Soup 函式庫，不用額外安裝。\n",
        "```python\n",
        "pip install beautifulsoup4\n",
        "```\n",
        "\n",
        "## import Beautiful Soup\n",
        "\n",
        "```python\n",
        "from bs4 import BeautifulSoup\n",
        "```"
      ],
      "metadata": {
        "id": "47W37H_jmsPR"
      }
    },
    {
      "cell_type": "code",
      "source": [],
      "metadata": {
        "id": "ILtQcWeQmrmR"
      },
      "execution_count": 5,
      "outputs": []
    },
    {
      "cell_type": "markdown",
      "source": [
        "# 使用 Beautiful Soup\n",
        "\n",
        "將 HTML 的原始碼 ( 純文字 ) 提供給 Beautiful Soup，就能轉換成可讀取的標籤樹 ( tag )。\n",
        "\n",
        "```python\n",
        "url = 'https://water.taiwanstat.com/'\n",
        "web = requests.get(url)                        # 取得網頁內容\n",
        "soup = BeautifulSoup(web.text, \"html.parser\")  # 轉換成標籤樹\n",
        "print(soup) \n",
        "title = soup.title                             # 取得 title\n",
        "print(title) \n",
        "```"
      ],
      "metadata": {
        "id": "yW73qYvwnk2y"
      }
    },
    {
      "cell_type": "code",
      "source": [],
      "metadata": {
        "id": "srOCxbaXn4PB"
      },
      "execution_count": null,
      "outputs": []
    }
  ]
}