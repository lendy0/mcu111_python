{
  "nbformat": 4,
  "nbformat_minor": 0,
  "metadata": {
    "colab": {
      "provenance": [],
      "authorship_tag": "ABX9TyPBZ7bTfIjaysOx/C0lJY2X",
      "include_colab_link": true
    },
    "kernelspec": {
      "name": "python3",
      "display_name": "Python 3"
    },
    "language_info": {
      "name": "python"
    }
  },
  "cells": [
    {
      "cell_type": "markdown",
      "metadata": {
        "id": "view-in-github",
        "colab_type": "text"
      },
      "source": [
        "<a href=\"https://colab.research.google.com/github/lendy0/mcu111_python/blob/main/Flask0531.ipynb\" target=\"_parent\"><img src=\"https://colab.research.google.com/assets/colab-badge.svg\" alt=\"Open In Colab\"/></a>"
      ]
    },
    {
      "cell_type": "markdown",
      "source": [
        "**Import Necessary Libraries**\n",
        "\n",
        "```python\n",
        "!pip install flask --quiet\n",
        "!pip install flask-ngrok --quiet\n",
        "print(\"Completed!\")\n",
        "```\n",
        "\n",
        "**Setup and Installation of Ngrok**\n",
        "\n",
        "```python\n",
        "# install ngrok linux version using the following command or you can get the\n",
        "# latest version from its official website- https://dashboard.ngrok.com/get-started/setup\n",
        "\n",
        "!wget https://bin.equinox.io/c/4VmDzA7iaHb/ngrok-stable-linux-amd64.tgz\n",
        "```\n",
        "\n",
        "```python\n",
        "# extract the downloaded file using the following command \n",
        "\n",
        "!tar -xvf /content/ngrok-stable-linux-amd64.tgz\n",
        "```\n",
        "\n",
        "\n",
        "** The next step is to get your AuthToken from ngrok using this link- https://dashboard.ngrok.com/get-started/your-authtoken\n",
        "\n",
        "** paste your AuthToken here and execute this command\n",
        "\n",
        "```python\n",
        "!./ngrok authtoken 23H0IY10fqeKMIW7kG05JhKZMae_3Zabr2iqkU9AUcZ7CrRTP\n",
        "\n",
        "```"
      ],
      "metadata": {
        "id": "CIH38K8wyHTs"
      }
    },
    {
      "cell_type": "code",
      "source": [
        "!pip install flask --quiet\n",
        "!pip install flask-ngrok --quiet\n",
        "print(\"Completed!\")"
      ],
      "metadata": {
        "id": "dggdYaLay5x7"
      },
      "execution_count": null,
      "outputs": []
    },
    {
      "cell_type": "code",
      "source": [
        "!wget https://bin.equinox.io/c/4VmDzA7iaHb/ngrok-stable-linux-amd64.tgz"
      ],
      "metadata": {
        "colab": {
          "base_uri": "https://localhost:8080/"
        },
        "id": "BaJzs--Ny94c",
        "outputId": "8937465d-2655-4072-9eda-af336cfbdeab"
      },
      "execution_count": 2,
      "outputs": [
        {
          "output_type": "stream",
          "name": "stdout",
          "text": [
            "--2023-05-31 07:53:13--  https://bin.equinox.io/c/4VmDzA7iaHb/ngrok-stable-linux-amd64.tgz\n",
            "Resolving bin.equinox.io (bin.equinox.io)... 18.205.222.128, 52.202.168.65, 54.161.241.46, ...\n",
            "Connecting to bin.equinox.io (bin.equinox.io)|18.205.222.128|:443... connected.\n",
            "HTTP request sent, awaiting response... 200 OK\n",
            "Length: 13856790 (13M) [application/octet-stream]\n",
            "Saving to: ‘ngrok-stable-linux-amd64.tgz’\n",
            "\n",
            "ngrok-stable-linux- 100%[===================>]  13.21M  60.6MB/s    in 0.2s    \n",
            "\n",
            "2023-05-31 07:53:14 (60.6 MB/s) - ‘ngrok-stable-linux-amd64.tgz’ saved [13856790/13856790]\n",
            "\n"
          ]
        }
      ]
    },
    {
      "cell_type": "code",
      "source": [
        "!tar -xvf /content/ngrok-stable-linux-amd64.tgz"
      ],
      "metadata": {
        "id": "9QKWQHOYzCSR"
      },
      "execution_count": null,
      "outputs": []
    },
    {
      "cell_type": "code",
      "source": [
        "!./ngrok authtoken 1WfN3RWTRByiPHSz9r0ZW1B6As4_5Mf9H6n439ySgC665zpQp"
      ],
      "metadata": {
        "id": "1X5Zu6y5zGUU"
      },
      "execution_count": null,
      "outputs": []
    },
    {
      "cell_type": "code",
      "execution_count": null,
      "metadata": {
        "id": "7oUIp0P9xhUd"
      },
      "outputs": [],
      "source": [
        "# import Flask from flask module\n",
        "from flask import Flask,request\n",
        "\n",
        "# import run_with_ngrok from flask_ngrok to run the app using ngrok\n",
        "from flask_ngrok import run_with_ngrok\n",
        "\n",
        "app = Flask(__name__) #app name\n",
        "run_with_ngrok(app)\n",
        "\n",
        "db = []\n",
        "\n",
        "@app.route('/', methods=['GET', 'POST'])\n",
        "def home():\n",
        "    return '<h1>Home</h1>'\n",
        "\n",
        "@app.route('/signin', methods=['GET'])\n",
        "def signin_form():\n",
        "    return '''<form action=\"/signin\" method=\"post\">\n",
        "              <p>name:<input name=\"username\"></p>\n",
        "              <p>password:<input name=\"password\" type=\"password\"></p>\n",
        "              <p><button type=\"submit\">Sign In</button></p>\n",
        "              </form>'''\n",
        "\n",
        "@app.route('/signin', methods=['POST'])\n",
        "def signin():\n",
        "    # 從request物件中讀取資料：\n",
        "    name = request.form['username']\n",
        "    password = request.form['password']\n",
        "    db.append({'name':name,'password':password})\n",
        "    return ('username: %s<br>password: %s' % (name, password))\n",
        "\n",
        "\n",
        "@app.route('/list', methods=['GET'])\n",
        "def list():\n",
        "    html='<h2>LIST:</h2><table border=\"1\">'\n",
        "    for i in db:\n",
        "        html = html + '<tr><td> %s </td><td> %s </td></tr>'%(i['name'],i['password'])\n",
        "    html = html + '</table>'\n",
        "\n",
        "    return html\n",
        "\n",
        "\n",
        "if __name__ == \"__main__\":\n",
        "    app.run()"
      ]
    },
    {
      "cell_type": "markdown",
      "source": [
        "https://1704-34-73-23-57.ngrok-free.app/signin"
      ],
      "metadata": {
        "id": "7I3LFd-w0Yfk"
      }
    },
    {
      "cell_type": "code",
      "source": [],
      "metadata": {
        "id": "Xam4l5Vg0Xq9"
      },
      "execution_count": null,
      "outputs": []
    }
  ]
}